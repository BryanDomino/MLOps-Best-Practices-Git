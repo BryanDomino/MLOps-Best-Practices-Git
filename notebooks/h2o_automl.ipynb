{
 "cells": [
  {
   "cell_type": "code",
   "execution_count": 2,
   "id": "49e25c18-f19b-4c8f-b553-2954d8d39d54",
   "metadata": {},
   "outputs": [],
   "source": [
    "import h2o\n",
    "from h2o.automl import H2OAutoML\n",
    "import json\n",
    "import pickle \n",
    "import pandas as pd\n",
    "import random"
   ]
  },
  {
   "cell_type": "code",
   "execution_count": 3,
   "id": "7b456250-02fc-4d75-ba55-b1266c4a5489",
   "metadata": {},
   "outputs": [],
   "source": [
    "#Create a random test train split between 60-80%\n",
    "n = random.randrange(60, 80)\n",
    "\n",
    "#read in data then split into train and test\n",
    "data = pd.read_csv('/domino/datasets/local/wine-data/winequality.csv')\n",
    "train = data[0:round(len(data)*n/100)]\n",
    "test = data[train.shape[0]:]"
   ]
  },
  {
   "cell_type": "code",
   "execution_count": 4,
   "id": "4b87f111-2c38-479f-adaf-d5df5f3bdb1c",
   "metadata": {},
   "outputs": [
    {
     "name": "stdout",
     "output_type": "stream",
     "text": [
      "H2O version -3.36.0.2\n",
      "Checking whether there is an H2O instance running at http://localhost:54321 ..... not found.\n",
      "Attempting to start a local H2O server...\n",
      "  Java Version: openjdk version \"11.0.11\" 2021-04-20; OpenJDK Runtime Environment (build 11.0.11+9-Ubuntu-0ubuntu2.18.04); OpenJDK 64-Bit Server VM (build 11.0.11+9-Ubuntu-0ubuntu2.18.04, mixed mode, sharing)\n",
      "  Starting server from /opt/conda/lib/python3.8/site-packages/h2o/backend/bin/h2o.jar\n",
      "  Ice root: /tmp/tmpfcx65_5w\n",
      "  JVM stdout: /tmp/tmpfcx65_5w/h2o_ubuntu_started_from_python.out\n",
      "  JVM stderr: /tmp/tmpfcx65_5w/h2o_ubuntu_started_from_python.err\n",
      "  Server is running at http://127.0.0.1:54321\n",
      "Connecting to H2O server at http://127.0.0.1:54321 ... successful.\n"
     ]
    },
    {
     "data": {
      "text/html": [
       "<div style=\"overflow:auto\"><table style=\"width:50%\"><tr><td>H2O_cluster_uptime:</td>\n",
       "<td>02 secs</td></tr>\n",
       "<tr><td>H2O_cluster_timezone:</td>\n",
       "<td>Etc/UTC</td></tr>\n",
       "<tr><td>H2O_data_parsing_timezone:</td>\n",
       "<td>UTC</td></tr>\n",
       "<tr><td>H2O_cluster_version:</td>\n",
       "<td>3.36.0.2</td></tr>\n",
       "<tr><td>H2O_cluster_version_age:</td>\n",
       "<td>13 days </td></tr>\n",
       "<tr><td>H2O_cluster_name:</td>\n",
       "<td>H2O_from_python_ubuntu_1enrlc</td></tr>\n",
       "<tr><td>H2O_cluster_total_nodes:</td>\n",
       "<td>1</td></tr>\n",
       "<tr><td>H2O_cluster_free_memory:</td>\n",
       "<td>976 Mb</td></tr>\n",
       "<tr><td>H2O_cluster_total_cores:</td>\n",
       "<td>1</td></tr>\n",
       "<tr><td>H2O_cluster_allowed_cores:</td>\n",
       "<td>1</td></tr>\n",
       "<tr><td>H2O_cluster_status:</td>\n",
       "<td>locked, healthy</td></tr>\n",
       "<tr><td>H2O_connection_url:</td>\n",
       "<td>http://127.0.0.1:54321</td></tr>\n",
       "<tr><td>H2O_connection_proxy:</td>\n",
       "<td>{\"http\": null, \"https\": null}</td></tr>\n",
       "<tr><td>H2O_internal_security:</td>\n",
       "<td>False</td></tr>\n",
       "<tr><td>H2O_API_Extensions:</td>\n",
       "<td>Amazon S3, XGBoost, Algos, Infogram, AutoML, Core V3, TargetEncoder, Core V4</td></tr>\n",
       "<tr><td>Python_version:</td>\n",
       "<td>3.8.12 final</td></tr></table></div>"
      ],
      "text/plain": [
       "--------------------------  ----------------------------------------------------------------------------\n",
       "H2O_cluster_uptime:         02 secs\n",
       "H2O_cluster_timezone:       Etc/UTC\n",
       "H2O_data_parsing_timezone:  UTC\n",
       "H2O_cluster_version:        3.36.0.2\n",
       "H2O_cluster_version_age:    13 days\n",
       "H2O_cluster_name:           H2O_from_python_ubuntu_1enrlc\n",
       "H2O_cluster_total_nodes:    1\n",
       "H2O_cluster_free_memory:    976 Mb\n",
       "H2O_cluster_total_cores:    1\n",
       "H2O_cluster_allowed_cores:  1\n",
       "H2O_cluster_status:         locked, healthy\n",
       "H2O_connection_url:         http://127.0.0.1:54321\n",
       "H2O_connection_proxy:       {\"http\": null, \"https\": null}\n",
       "H2O_internal_security:      False\n",
       "H2O_API_Extensions:         Amazon S3, XGBoost, Algos, Infogram, AutoML, Core V3, TargetEncoder, Core V4\n",
       "Python_version:             3.8.12 final\n",
       "--------------------------  ----------------------------------------------------------------------------"
      ]
     },
     "metadata": {},
     "output_type": "display_data"
    }
   ],
   "source": [
    "print('H2O version -{}'.format(h2o.__version__))\n",
    "\n",
    "#initailize local h2o\n",
    "h2o.init()"
   ]
  },
  {
   "cell_type": "code",
   "execution_count": 5,
   "id": "eb1e1be7-0d26-4e75-aded-bedaa2f9fdab",
   "metadata": {},
   "outputs": [
    {
     "data": {
      "text/html": [
       "<div>\n",
       "<style scoped>\n",
       "    .dataframe tbody tr th:only-of-type {\n",
       "        vertical-align: middle;\n",
       "    }\n",
       "\n",
       "    .dataframe tbody tr th {\n",
       "        vertical-align: top;\n",
       "    }\n",
       "\n",
       "    .dataframe thead th {\n",
       "        text-align: right;\n",
       "    }\n",
       "</style>\n",
       "<table border=\"1\" class=\"dataframe\">\n",
       "  <thead>\n",
       "    <tr style=\"text-align: right;\">\n",
       "      <th></th>\n",
       "      <th>type</th>\n",
       "      <th>fixed acidity</th>\n",
       "      <th>volatile acidity</th>\n",
       "      <th>citric acid</th>\n",
       "      <th>residual sugar</th>\n",
       "      <th>chlorides</th>\n",
       "      <th>free sulfur dioxide</th>\n",
       "      <th>total sulfur dioxide</th>\n",
       "      <th>density</th>\n",
       "      <th>pH</th>\n",
       "      <th>sulphates</th>\n",
       "      <th>alcohol</th>\n",
       "      <th>quality</th>\n",
       "    </tr>\n",
       "  </thead>\n",
       "  <tbody>\n",
       "    <tr>\n",
       "      <th>0</th>\n",
       "      <td>white</td>\n",
       "      <td>7.0</td>\n",
       "      <td>0.27</td>\n",
       "      <td>0.36</td>\n",
       "      <td>20.7</td>\n",
       "      <td>0.045</td>\n",
       "      <td>45.0</td>\n",
       "      <td>170.0</td>\n",
       "      <td>1.0010</td>\n",
       "      <td>3.00</td>\n",
       "      <td>0.45</td>\n",
       "      <td>8.8</td>\n",
       "      <td>6</td>\n",
       "    </tr>\n",
       "    <tr>\n",
       "      <th>1</th>\n",
       "      <td>white</td>\n",
       "      <td>6.3</td>\n",
       "      <td>0.30</td>\n",
       "      <td>0.34</td>\n",
       "      <td>1.6</td>\n",
       "      <td>0.049</td>\n",
       "      <td>14.0</td>\n",
       "      <td>132.0</td>\n",
       "      <td>0.9940</td>\n",
       "      <td>3.30</td>\n",
       "      <td>0.49</td>\n",
       "      <td>9.5</td>\n",
       "      <td>6</td>\n",
       "    </tr>\n",
       "    <tr>\n",
       "      <th>2</th>\n",
       "      <td>white</td>\n",
       "      <td>8.1</td>\n",
       "      <td>0.28</td>\n",
       "      <td>0.40</td>\n",
       "      <td>6.9</td>\n",
       "      <td>0.050</td>\n",
       "      <td>30.0</td>\n",
       "      <td>97.0</td>\n",
       "      <td>0.9951</td>\n",
       "      <td>3.26</td>\n",
       "      <td>0.44</td>\n",
       "      <td>10.1</td>\n",
       "      <td>6</td>\n",
       "    </tr>\n",
       "    <tr>\n",
       "      <th>3</th>\n",
       "      <td>white</td>\n",
       "      <td>7.2</td>\n",
       "      <td>0.23</td>\n",
       "      <td>0.32</td>\n",
       "      <td>8.5</td>\n",
       "      <td>0.058</td>\n",
       "      <td>47.0</td>\n",
       "      <td>186.0</td>\n",
       "      <td>0.9956</td>\n",
       "      <td>3.19</td>\n",
       "      <td>0.40</td>\n",
       "      <td>9.9</td>\n",
       "      <td>6</td>\n",
       "    </tr>\n",
       "    <tr>\n",
       "      <th>4</th>\n",
       "      <td>white</td>\n",
       "      <td>7.2</td>\n",
       "      <td>0.23</td>\n",
       "      <td>0.32</td>\n",
       "      <td>8.5</td>\n",
       "      <td>0.058</td>\n",
       "      <td>47.0</td>\n",
       "      <td>186.0</td>\n",
       "      <td>0.9956</td>\n",
       "      <td>3.19</td>\n",
       "      <td>0.40</td>\n",
       "      <td>9.9</td>\n",
       "      <td>6</td>\n",
       "    </tr>\n",
       "  </tbody>\n",
       "</table>\n",
       "</div>"
      ],
      "text/plain": [
       "    type  fixed acidity  volatile acidity  citric acid  residual sugar  \\\n",
       "0  white            7.0              0.27         0.36            20.7   \n",
       "1  white            6.3              0.30         0.34             1.6   \n",
       "2  white            8.1              0.28         0.40             6.9   \n",
       "3  white            7.2              0.23         0.32             8.5   \n",
       "4  white            7.2              0.23         0.32             8.5   \n",
       "\n",
       "   chlorides  free sulfur dioxide  total sulfur dioxide  density    pH  \\\n",
       "0      0.045                 45.0                 170.0   1.0010  3.00   \n",
       "1      0.049                 14.0                 132.0   0.9940  3.30   \n",
       "2      0.050                 30.0                  97.0   0.9951  3.26   \n",
       "3      0.058                 47.0                 186.0   0.9956  3.19   \n",
       "4      0.058                 47.0                 186.0   0.9956  3.19   \n",
       "\n",
       "   sulphates  alcohol  quality  \n",
       "0       0.45      8.8        6  \n",
       "1       0.49      9.5        6  \n",
       "2       0.44     10.1        6  \n",
       "3       0.40      9.9        6  \n",
       "4       0.40      9.9        6  "
      ]
     },
     "execution_count": 5,
     "metadata": {},
     "output_type": "execute_result"
    }
   ],
   "source": [
    "train.head()"
   ]
  },
  {
   "cell_type": "code",
   "execution_count": 6,
   "id": "8d69977a-8caf-4a6e-ab6f-0de841b524a1",
   "metadata": {},
   "outputs": [
    {
     "name": "stdout",
     "output_type": "stream",
     "text": [
      "Parse progress: |████████████████████████████████████████████████████████████████| (done) 100%\n",
      "Parse progress: |████████████████████████████████████████████████████████████████| (done) 100%\n"
     ]
    }
   ],
   "source": [
    "#Convert data to h2o frames\n",
    "hTrain = h2o.H2OFrame(train)\n",
    "hTest = h2o.H2OFrame(test)\n",
    "\n",
    "# Identify predictors and response\n",
    "x = hTrain.columns\n",
    "y = \"quality\"\n",
    "x.remove(y)\n",
    "\n",
    "# Isolate target vasriable\n",
    "hTrain[y] = hTrain[y]\n",
    "hTest[y] = hTest[y]"
   ]
  },
  {
   "cell_type": "code",
   "execution_count": 7,
   "id": "37ea7c3a-b766-4ac8-a5db-d6ed98d9d9ad",
   "metadata": {},
   "outputs": [
    {
     "name": "stdout",
     "output_type": "stream",
     "text": [
      "AutoML progress: |\n",
      "03:51:04.684: _train param, Dropping bad and constant columns: [type]\n",
      "\n",
      "████\n",
      "03:51:14.704: _train param, Dropping bad and constant columns: [type]\n",
      "\n",
      "█\n",
      "03:51:17.711: _train param, Dropping bad and constant columns: [type]\n",
      "\n",
      "████\n",
      "03:51:28.993: _train param, Dropping unused columns: [type]\n",
      "\n",
      "\n",
      "03:51:29.995: _train param, Dropping bad and constant columns: [type]\n",
      "\n",
      "██\n",
      "03:51:35.999: _train param, Dropping bad and constant columns: [type]\n",
      "\n",
      "████\n",
      "03:51:47.3: _train param, Dropping unused columns: [type]\n",
      "\n",
      "\n",
      "03:51:48.6: _train param, Dropping unused columns: [type]\n",
      "\n",
      "█\n",
      "03:51:49.12: _train param, Dropping unused columns: [type]\n",
      "\n",
      "██\n",
      "03:51:56.15: _train param, Dropping unused columns: [type]\n",
      "\n",
      "██\n",
      "03:52:01.20: _train param, Dropping unused columns: [type]\n",
      "\n",
      "██\n",
      "03:52:07.24: _train param, Dropping unused columns: [type]\n",
      "\n",
      "█\n",
      "03:52:11.27: _train param, Dropping unused columns: [type]\n",
      "\n",
      "█\n",
      "03:52:13.31: _train param, Dropping unused columns: [type]\n",
      "\n",
      "███████████████████████████████████████| (done) 100%\n",
      "CPU times: user 804 ms, sys: 26 ms, total: 830 ms\n",
      "Wall time: 1min 11s\n",
      "Model Details\n",
      "=============\n",
      "H2OStackedEnsembleEstimator :  Stacked Ensemble\n",
      "Model Key:  StackedEnsemble_AllModels_4_AutoML_1_20220208_35104\n",
      "\n",
      "No model summary for this model\n",
      "\n",
      "ModelMetricsRegressionGLM: stackedensemble\n",
      "** Reported on train data. **\n",
      "\n",
      "MSE: 0.03478008693640283\n",
      "RMSE: 0.18649420081172186\n",
      "MAE: 0.1305127438302312\n",
      "RMSLE: 0.028467356255014384\n",
      "R^2: 0.9579889855882231\n",
      "Mean Residual Deviance: 0.03478008693640283\n",
      "Null degrees of freedom: 3962\n",
      "Residual degrees of freedom: 3959\n",
      "Null deviance: 3280.8892253343333\n",
      "Residual deviance: 137.83348452896442\n",
      "AIC: -2054.0619876133987\n",
      "\n",
      "ModelMetricsRegressionGLM: stackedensemble\n",
      "** Reported on cross-validation data. **\n",
      "\n",
      "MSE: 0.36959791486973453\n",
      "RMSE: 0.6079456512466674\n",
      "MAE: 0.42247659639359825\n",
      "RMSLE: 0.09175559225437409\n",
      "R^2: 0.5535611122379489\n",
      "Mean Residual Deviance: 0.36959791486973453\n",
      "Null degrees of freedom: 3962\n",
      "Residual degrees of freedom: 3959\n",
      "Null deviance: 3282.170905641025\n",
      "Residual deviance: 1464.716536628758\n",
      "AIC: 7311.976055403504\n"
     ]
    },
    {
     "data": {
      "text/plain": []
     },
     "execution_count": 7,
     "metadata": {},
     "output_type": "execute_result"
    }
   ],
   "source": [
    "%%time\n",
    "# Run AutoML for 5 base models (limited to 3 min max runtime by default)\n",
    "aml = H2OAutoML(max_models=5, seed=1, max_runtime_secs=180)\n",
    "aml.train(x=x, y=y, training_frame=hTrain)"
   ]
  },
  {
   "cell_type": "code",
   "execution_count": 24,
   "id": "a8461ed0-539e-4e9b-b7fe-19d8b9bc9e6e",
   "metadata": {},
   "outputs": [
    {
     "name": "stdout",
     "output_type": "stream",
     "text": [
      "stackedensemble prediction progress: |███████████████████████████████████████████| (done) 100%\n"
     ]
    }
   ],
   "source": [
    "import seaborn as sns\n",
    "import numpy as np\n",
    "import pandas as pd\n",
    "# sns.histplot(np.array(aml.leader.predict(hTest)))\n",
    "a = aml.leader.predict(hTest)"
   ]
  },
  {
   "cell_type": "code",
   "execution_count": 34,
   "id": "927dd99b-7ead-4f5d-bbb6-8a06af9fcff2",
   "metadata": {},
   "outputs": [
    {
     "data": {
      "text/plain": [
       "<AxesSubplot:xlabel='predict', ylabel='Count'>"
      ]
     },
     "execution_count": 34,
     "metadata": {},
     "output_type": "execute_result"
    },
    {
     "data": {
      "image/png": "[encoded data removed]",
      "text/plain": [
       "<Figure size 432x288 with 1 Axes>"
      ]
     },
     "metadata": {
      "needs_background": "light"
     },
     "output_type": "display_data"
    }
   ],
   "source": [
    "sns.histplot(a.as_data_frame()['predict'].apply(lambda x: np.around(x,0)))"
   ]
  },
  {
   "cell_type": "code",
   "execution_count": 45,
   "id": "38168ed9-afde-4200-a422-ffddebaa6a5f",
   "metadata": {},
   "outputs": [
    {
     "data": {
      "text/plain": [
       "<AxesSubplot:xlabel='predict', ylabel='Count'>"
      ]
     },
     "execution_count": 45,
     "metadata": {},
     "output_type": "execute_result"
    },
    {
     "data": {
      "image/png": "[encoded data removed]",
      "text/plain": [
       "<Figure size 432x288 with 1 Axes>"
      ]
     },
     "metadata": {
      "needs_background": "light"
     },
     "output_type": "display_data"
    }
   ],
   "source": [
    "sns.histplot(a.as_data_frame().predict, bins = 10)"
   ]
  },
  {
   "cell_type": "code",
   "execution_count": 53,
   "id": "42465823-f562-49b8-81fe-f724baa20ccf",
   "metadata": {},
   "outputs": [
    {
     "data": {
      "text/plain": [
       "<AxesSubplot:xlabel='quality', ylabel='Count'>"
      ]
     },
     "execution_count": 53,
     "metadata": {},
     "output_type": "execute_result"
    },
    {
     "data": {
      "image/png": "[encoded data removed]",
      "text/plain": [
       "<Figure size 432x288 with 1 Axes>"
      ]
     },
     "metadata": {
      "needs_background": "light"
     },
     "output_type": "display_data"
    }
   ],
   "source": [
    "sns.histplot(test.quality.astype('float64'), bins =10)"
   ]
  },
  {
   "cell_type": "code",
   "execution_count": 52,
   "id": "bf79a695-7edf-460b-846c-98fedfafca3b",
   "metadata": {},
   "outputs": [
    {
     "data": {
      "text/plain": [
       "1.0147360164977757"
      ]
     },
     "execution_count": 52,
     "metadata": {},
     "output_type": "execute_result"
    }
   ],
   "source": [
    "from sklearn.metrics import r2_score, mean_squared_error\n",
    "r2_score(test.quality, a.as_data_frame()['predict'])\n",
    "mean_squared_error(test.quality, a.as_data_frame()['predict'])"
   ]
  },
  {
   "cell_type": "code",
   "execution_count": null,
   "id": "99363c73-d2b4-4afe-9388-c8aec29c4644",
   "metadata": {},
   "outputs": [],
   "source": []
  }
 ],
 "metadata": {
  "kernelspec": {
   "display_name": "Python 3 (ipykernel)",
   "language": "python",
   "name": "python3"
  },
  "language_info": {
   "codemirror_mode": {
    "name": "ipython",
    "version": 3
   },
   "file_extension": ".py",
   "mimetype": "text/x-python",
   "name": "python",
   "nbconvert_exporter": "python",
   "pygments_lexer": "ipython3",
   "version": "3.8.12"
  }
 },
 "nbformat": 4,
 "nbformat_minor": 5
}
