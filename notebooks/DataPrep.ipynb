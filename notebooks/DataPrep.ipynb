{
 "cells": [
  {
   "cell_type": "code",
   "execution_count": 1,
   "id": "1e4576f5-ce13-4d62-96c6-7d8bc909f96f",
   "metadata": {},
   "outputs": [],
   "source": [
    "import pandas as pd\n",
    "import numpy as np\n",
    "import sklearn\n",
    "import matplotlib.pyplot as plt\n",
    "import seaborn as sns"
   ]
  },
  {
   "cell_type": "code",
   "execution_count": 2,
   "id": "ee097f37-2655-45d9-a805-45ddfdb120a0",
   "metadata": {},
   "outputs": [
    {
     "data": {
      "text/html": [
       "<div>\n",
       "<style scoped>\n",
       "    .dataframe tbody tr th:only-of-type {\n",
       "        vertical-align: middle;\n",
       "    }\n",
       "\n",
       "    .dataframe tbody tr th {\n",
       "        vertical-align: top;\n",
       "    }\n",
       "\n",
       "    .dataframe thead th {\n",
       "        text-align: right;\n",
       "    }\n",
       "</style>\n",
       "<table border=\"1\" class=\"dataframe\">\n",
       "  <thead>\n",
       "    <tr style=\"text-align: right;\">\n",
       "      <th></th>\n",
       "      <th>type</th>\n",
       "      <th>fixed acidity</th>\n",
       "      <th>volatile acidity</th>\n",
       "      <th>citric acid</th>\n",
       "      <th>residual sugar</th>\n",
       "      <th>chlorides</th>\n",
       "      <th>free sulfur dioxide</th>\n",
       "      <th>total sulfur dioxide</th>\n",
       "      <th>density</th>\n",
       "      <th>pH</th>\n",
       "      <th>sulphates</th>\n",
       "      <th>alcohol</th>\n",
       "      <th>quality</th>\n",
       "    </tr>\n",
       "  </thead>\n",
       "  <tbody>\n",
       "    <tr>\n",
       "      <th>0</th>\n",
       "      <td>white</td>\n",
       "      <td>7.0</td>\n",
       "      <td>0.27</td>\n",
       "      <td>0.36</td>\n",
       "      <td>20.7</td>\n",
       "      <td>0.045</td>\n",
       "      <td>45.0</td>\n",
       "      <td>170.0</td>\n",
       "      <td>1.0010</td>\n",
       "      <td>3.00</td>\n",
       "      <td>0.45</td>\n",
       "      <td>8.8</td>\n",
       "      <td>6</td>\n",
       "    </tr>\n",
       "    <tr>\n",
       "      <th>1</th>\n",
       "      <td>white</td>\n",
       "      <td>6.3</td>\n",
       "      <td>0.30</td>\n",
       "      <td>0.34</td>\n",
       "      <td>1.6</td>\n",
       "      <td>0.049</td>\n",
       "      <td>14.0</td>\n",
       "      <td>132.0</td>\n",
       "      <td>0.9940</td>\n",
       "      <td>3.30</td>\n",
       "      <td>0.49</td>\n",
       "      <td>9.5</td>\n",
       "      <td>6</td>\n",
       "    </tr>\n",
       "    <tr>\n",
       "      <th>2</th>\n",
       "      <td>white</td>\n",
       "      <td>8.1</td>\n",
       "      <td>0.28</td>\n",
       "      <td>0.40</td>\n",
       "      <td>6.9</td>\n",
       "      <td>0.050</td>\n",
       "      <td>30.0</td>\n",
       "      <td>97.0</td>\n",
       "      <td>0.9951</td>\n",
       "      <td>3.26</td>\n",
       "      <td>0.44</td>\n",
       "      <td>10.1</td>\n",
       "      <td>6</td>\n",
       "    </tr>\n",
       "    <tr>\n",
       "      <th>3</th>\n",
       "      <td>white</td>\n",
       "      <td>7.2</td>\n",
       "      <td>0.23</td>\n",
       "      <td>0.32</td>\n",
       "      <td>8.5</td>\n",
       "      <td>0.058</td>\n",
       "      <td>47.0</td>\n",
       "      <td>186.0</td>\n",
       "      <td>0.9956</td>\n",
       "      <td>3.19</td>\n",
       "      <td>0.40</td>\n",
       "      <td>9.9</td>\n",
       "      <td>6</td>\n",
       "    </tr>\n",
       "    <tr>\n",
       "      <th>4</th>\n",
       "      <td>white</td>\n",
       "      <td>7.2</td>\n",
       "      <td>0.23</td>\n",
       "      <td>0.32</td>\n",
       "      <td>8.5</td>\n",
       "      <td>0.058</td>\n",
       "      <td>47.0</td>\n",
       "      <td>186.0</td>\n",
       "      <td>0.9956</td>\n",
       "      <td>3.19</td>\n",
       "      <td>0.40</td>\n",
       "      <td>9.9</td>\n",
       "      <td>6</td>\n",
       "    </tr>\n",
       "  </tbody>\n",
       "</table>\n",
       "</div>"
      ],
      "text/plain": [
       "    type  fixed acidity  volatile acidity  citric acid  residual sugar  \\\n",
       "0  white            7.0              0.27         0.36            20.7   \n",
       "1  white            6.3              0.30         0.34             1.6   \n",
       "2  white            8.1              0.28         0.40             6.9   \n",
       "3  white            7.2              0.23         0.32             8.5   \n",
       "4  white            7.2              0.23         0.32             8.5   \n",
       "\n",
       "   chlorides  free sulfur dioxide  total sulfur dioxide  density    pH  \\\n",
       "0      0.045                 45.0                 170.0   1.0010  3.00   \n",
       "1      0.049                 14.0                 132.0   0.9940  3.30   \n",
       "2      0.050                 30.0                  97.0   0.9951  3.26   \n",
       "3      0.058                 47.0                 186.0   0.9956  3.19   \n",
       "4      0.058                 47.0                 186.0   0.9956  3.19   \n",
       "\n",
       "   sulphates  alcohol  quality  \n",
       "0       0.45      8.8        6  \n",
       "1       0.49      9.5        6  \n",
       "2       0.44     10.1        6  \n",
       "3       0.40      9.9        6  \n",
       "4       0.40      9.9        6  "
      ]
     },
     "execution_count": 2,
     "metadata": {},
     "output_type": "execute_result"
    }
   ],
   "source": [
    "df = pd.read_csv('/domino/datasets/local/wine-data/winequality.csv')\n",
    "df.head()"
   ]
  },
  {
   "cell_type": "code",
   "execution_count": 3,
   "id": "2e8ce056-3f9c-4a4d-b1df-feeb38771e9a",
   "metadata": {},
   "outputs": [],
   "source": [
    "for col in df.columns:\n",
    "    df.rename({col: col.replace(' ', '-')}, axis =1, inplace = True)"
   ]
  },
  {
   "cell_type": "code",
   "execution_count": 4,
   "id": "6db93641-e031-4470-a8c9-dd34a8bac908",
   "metadata": {},
   "outputs": [
    {
     "data": {
      "text/plain": [
       "fixed-acidity       10\n",
       "volatile-acidity     8\n",
       "citric-acid          3\n",
       "residual-sugar       2\n",
       "chlorides            2\n",
       "pH                   9\n",
       "sulphates            4\n",
       "dtype: int64"
      ]
     },
     "execution_count": 4,
     "metadata": {},
     "output_type": "execute_result"
    }
   ],
   "source": [
    "na_values = df.isna().sum()\n",
    "na_values = na_values[na_values>0]\n",
    "na_values"
   ]
  },
  {
   "cell_type": "code",
   "execution_count": 5,
   "id": "e3c46280-2c94-46f8-bb84-79edb7bc37dc",
   "metadata": {},
   "outputs": [
    {
     "name": "stderr",
     "output_type": "stream",
     "text": [
      "/opt/conda/lib/python3.8/site-packages/seaborn/_decorators.py:36: FutureWarning: Pass the following variables as keyword args: x, y. From version 0.12, the only valid positional argument will be `data`, and passing other arguments without an explicit keyword will result in an error or misinterpretation.\n",
      "  warnings.warn(\n"
     ]
    },
    {
     "data": {
      "text/plain": [
       "<AxesSubplot:>"
      ]
     },
     "execution_count": 5,
     "metadata": {},
     "output_type": "execute_result"
    },
    {
     "data": {
      "image/png": "[encoded data removed]",
      "text/plain": [
       "<Figure size 720x288 with 1 Axes>"
      ]
     },
     "metadata": {
      "needs_background": "light"
     },
     "output_type": "display_data"
    }
   ],
   "source": [
    "fig = plt.figure(figsize=(10,4))\n",
    "sns.barplot(na_values.keys(), na_values.values)"
   ]
  },
  {
   "cell_type": "code",
   "execution_count": 12,
   "id": "70776d21-8400-447f-bd2f-2c07a603fe44",
   "metadata": {},
   "outputs": [
    {
     "data": {
      "text/plain": [
       "<AxesSubplot:>"
      ]
     },
     "execution_count": 12,
     "metadata": {},
     "output_type": "execute_result"
    },
    {
     "data": {
      "image/png": "[encoded data removed]",
      "text/plain": [
       "<Figure size 720x720 with 2 Axes>"
      ]
     },
     "metadata": {
      "needs_background": "light"
     },
     "output_type": "display_data"
    }
   ],
   "source": [
    "fig = plt.figure(figsize=(10,10))\n",
    "sns.heatmap(df.corr(), annot = True, fmt='.1g')"
   ]
  },
  {
   "cell_type": "code",
   "execution_count": 13,
   "id": "34ae777b-e1c1-47a3-be90-6314ef4cc699",
   "metadata": {},
   "outputs": [],
   "source": [
    "corr_values = df.corr().sort_values(by = 'quality')['quality'].drop('quality',axis=0)"
   ]
  },
  {
   "cell_type": "code",
   "execution_count": 14,
   "id": "20371b5e-4545-4f74-8da6-b7d9a802509c",
   "metadata": {},
   "outputs": [
    {
     "data": {
      "text/plain": [
       "density                -0.305858\n",
       "volatile-acidity       -0.265953\n",
       "chlorides              -0.200886\n",
       "fixed-acidity          -0.077031\n",
       "total-sulfur-dioxide   -0.041385\n",
       "residual-sugar         -0.036825\n",
       "pH                      0.019366\n",
       "sulphates               0.038729\n",
       "free-sulfur-dioxide     0.055463\n",
       "citric-acid             0.085706\n",
       "alcohol                 0.444319\n",
       "Name: quality, dtype: float64"
      ]
     },
     "execution_count": 14,
     "metadata": {},
     "output_type": "execute_result"
    }
   ],
   "source": [
    "corr_values"
   ]
  },
  {
   "cell_type": "code",
   "execution_count": 15,
   "id": "b9abdae8-f49d-4b33-b140-5fc464853bae",
   "metadata": {},
   "outputs": [
    {
     "name": "stderr",
     "output_type": "stream",
     "text": [
      "/opt/conda/lib/python3.8/site-packages/seaborn/_decorators.py:36: FutureWarning: Pass the following variables as keyword args: x, y. From version 0.12, the only valid positional argument will be `data`, and passing other arguments without an explicit keyword will result in an error or misinterpretation.\n",
      "  warnings.warn(\n"
     ]
    },
    {
     "data": {
      "text/plain": [
       "<AxesSubplot:>"
      ]
     },
     "execution_count": 15,
     "metadata": {},
     "output_type": "execute_result"
    },
    {
     "data": {
      "image/png": "[encoded data removed]",
      "text/plain": [
       "<Figure size 1440x360 with 1 Axes>"
      ]
     },
     "metadata": {
      "needs_background": "light"
     },
     "output_type": "display_data"
    }
   ],
   "source": [
    "plt.figure(figsize=(20,5))\n",
    "sns.barplot(corr_values.keys(), corr_values.values)"
   ]
  },
  {
   "cell_type": "code",
   "execution_count": 10,
   "id": "f204cc6c-6944-4313-8986-63b20ba15b81",
   "metadata": {
    "collapsed": true,
    "jupyter": {
     "outputs_hidden": true
    },
    "tags": []
   },
   "outputs": [
    {
     "name": "stdout",
     "output_type": "stream",
     "text": [
      "Collecting featuretools\n",
      "  Downloading featuretools-1.4.1-py3-none-any.whl (339 kB)\n",
      "\u001b[K     |████████████████████████████████| 339 kB 6.1 MB/s eta 0:00:01\n",
      "\u001b[?25hCollecting distributed>=2021.10.0\n",
      "  Downloading distributed-2022.1.1-py3-none-any.whl (830 kB)\n",
      "\u001b[K     |████████████████████████████████| 830 kB 109.7 MB/s eta 0:00:01\n",
      "\u001b[?25hRequirement already satisfied: numpy>=1.21.0 in /opt/conda/lib/python3.8/site-packages (from featuretools) (1.21.3)\n",
      "Requirement already satisfied: scipy>=1.3.3 in /opt/conda/lib/python3.8/site-packages (from featuretools) (1.7.1)\n",
      "Collecting dask[dataframe]>=2021.10.0\n",
      "  Downloading dask-2022.1.1-py3-none-any.whl (1.1 MB)\n",
      "\u001b[K     |████████████████████████████████| 1.1 MB 106.2 MB/s eta 0:00:01\n",
      "\u001b[?25hRequirement already satisfied: tqdm>=4.32.0 in /opt/conda/lib/python3.8/site-packages (from featuretools) (4.62.3)\n",
      "Requirement already satisfied: click>=7.0.0 in /opt/conda/lib/python3.8/site-packages (from featuretools) (8.0.3)\n",
      "Requirement already satisfied: pandas<1.4.0,>=1.3.0 in /opt/conda/lib/python3.8/site-packages (from featuretools) (1.3.4)\n",
      "Requirement already satisfied: psutil>=5.6.6 in /opt/conda/lib/python3.8/site-packages (from featuretools) (5.9.0)\n",
      "Requirement already satisfied: cloudpickle>=1.5.0 in /opt/conda/lib/python3.8/site-packages (from featuretools) (2.0.0)\n",
      "Collecting woodwork<0.12.0,>=0.8.1\n",
      "  Downloading woodwork-0.11.2-py3-none-any.whl (160 kB)\n",
      "\u001b[K     |████████████████████████████████| 160 kB 118.9 MB/s eta 0:00:01\n",
      "\u001b[?25hRequirement already satisfied: packaging>=20.0 in /home/ubuntu/.local/lib/python3.8/site-packages (from dask[dataframe]>=2021.10.0->featuretools) (21.3)\n",
      "Requirement already satisfied: fsspec>=0.6.0 in /opt/conda/lib/python3.8/site-packages (from dask[dataframe]>=2021.10.0->featuretools) (2021.6.1)\n",
      "Requirement already satisfied: pyyaml>=5.3.1 in /opt/conda/lib/python3.8/site-packages (from dask[dataframe]>=2021.10.0->featuretools) (6.0)\n",
      "Requirement already satisfied: partd>=0.3.10 in /opt/conda/lib/python3.8/site-packages (from dask[dataframe]>=2021.10.0->featuretools) (1.2.0)\n",
      "Requirement already satisfied: toolz>=0.8.2 in /opt/conda/lib/python3.8/site-packages (from dask[dataframe]>=2021.10.0->featuretools) (0.11.2)\n",
      "Requirement already satisfied: sortedcontainers!=2.0.0,!=2.0.1 in /opt/conda/lib/python3.8/site-packages (from distributed>=2021.10.0->featuretools) (2.4.0)\n",
      "Requirement already satisfied: zict>=0.1.3 in /opt/conda/lib/python3.8/site-packages (from distributed>=2021.10.0->featuretools) (2.0.0)\n",
      "Requirement already satisfied: tornado>=6.0.3 in /home/ubuntu/.local/lib/python3.8/site-packages (from distributed>=2021.10.0->featuretools) (6.1)\n",
      "Requirement already satisfied: setuptools in /opt/conda/lib/python3.8/site-packages (from distributed>=2021.10.0->featuretools) (59.5.0)\n",
      "Requirement already satisfied: msgpack>=0.6.0 in /opt/conda/lib/python3.8/site-packages (from distributed>=2021.10.0->featuretools) (1.0.3)\n",
      "Requirement already satisfied: jinja2 in /home/ubuntu/.local/lib/python3.8/site-packages (from distributed>=2021.10.0->featuretools) (3.0.3)\n",
      "Requirement already satisfied: tblib>=1.6.0 in /opt/conda/lib/python3.8/site-packages (from distributed>=2021.10.0->featuretools) (1.7.0)\n",
      "Requirement already satisfied: pyparsing!=3.0.5,>=2.0.2 in /opt/conda/lib/python3.8/site-packages (from packaging>=20.0->dask[dataframe]>=2021.10.0->featuretools) (3.0.6)\n",
      "Requirement already satisfied: python-dateutil>=2.7.3 in /opt/conda/lib/python3.8/site-packages (from pandas<1.4.0,>=1.3.0->featuretools) (2.8.2)\n",
      "Requirement already satisfied: pytz>=2017.3 in /opt/conda/lib/python3.8/site-packages (from pandas<1.4.0,>=1.3.0->featuretools) (2021.3)\n",
      "Requirement already satisfied: locket in /opt/conda/lib/python3.8/site-packages (from partd>=0.3.10->dask[dataframe]>=2021.10.0->featuretools) (0.2.1)\n",
      "Requirement already satisfied: six>=1.5 in /opt/conda/lib/python3.8/site-packages (from python-dateutil>=2.7.3->pandas<1.4.0,>=1.3.0->featuretools) (1.16.0)\n",
      "Requirement already satisfied: scikit-learn>=0.22 in /opt/conda/lib/python3.8/site-packages (from woodwork<0.12.0,>=0.8.1->featuretools) (1.0.1)\n",
      "Requirement already satisfied: joblib>=0.11 in /opt/conda/lib/python3.8/site-packages (from scikit-learn>=0.22->woodwork<0.12.0,>=0.8.1->featuretools) (1.1.0)\n",
      "Requirement already satisfied: threadpoolctl>=2.0.0 in /opt/conda/lib/python3.8/site-packages (from scikit-learn>=0.22->woodwork<0.12.0,>=0.8.1->featuretools) (3.0.0)\n",
      "Requirement already satisfied: heapdict in /opt/conda/lib/python3.8/site-packages (from zict>=0.1.3->distributed>=2021.10.0->featuretools) (1.0.1)\n",
      "Requirement already satisfied: MarkupSafe>=2.0 in /home/ubuntu/.local/lib/python3.8/site-packages (from jinja2->distributed>=2021.10.0->featuretools) (2.0.1)\n",
      "Installing collected packages: dask, woodwork, distributed, featuretools\n",
      "Successfully installed dask-2022.1.1 distributed-2022.1.1 featuretools-1.4.1 woodwork-0.11.2\n"
     ]
    }
   ],
   "source": [
    "!pip install featuretools --user"
   ]
  },
  {
   "cell_type": "code",
   "execution_count": 11,
   "id": "5cc1e859-6968-436a-822d-d95c6ce91556",
   "metadata": {},
   "outputs": [],
   "source": [
    "import featuretools as ft"
   ]
  },
  {
   "cell_type": "code",
   "execution_count": 12,
   "id": "1ee73e46-57db-4273-8196-7873a78b4a42",
   "metadata": {},
   "outputs": [
    {
     "data": {
      "text/plain": [
       "Index(['type', 'fixed-acidity', 'volatile-acidity', 'citric-acid',\n",
       "       'residual-sugar', 'chlorides', 'free-sulfur-dioxide',\n",
       "       'total-sulfur-dioxide', 'density', 'pH', 'sulphates', 'alcohol',\n",
       "       'quality'],\n",
       "      dtype='object')"
      ]
     },
     "execution_count": 12,
     "metadata": {},
     "output_type": "execute_result"
    }
   ],
   "source": [
    "df.columns"
   ]
  },
  {
   "cell_type": "code",
   "execution_count": 13,
   "id": "4740a291-4518-4292-9114-a2e8813e61fe",
   "metadata": {},
   "outputs": [],
   "source": [
    "df_fs =ft.selection.remove_highly_correlated_features(df, pct_corr_threshold=.65)"
   ]
  },
  {
   "cell_type": "code",
   "execution_count": 14,
   "id": "a65b9541-46ff-4198-a394-0d3fdab9812d",
   "metadata": {},
   "outputs": [],
   "source": [
    "df_fs =ft.selection.remove_low_information_features(df_fs)"
   ]
  },
  {
   "cell_type": "code",
   "execution_count": 15,
   "id": "d5a4e28b-e9fd-4c59-9f9e-790e4c39a693",
   "metadata": {},
   "outputs": [
    {
     "data": {
      "text/plain": [
       "Index(['type', 'fixed-acidity', 'volatile-acidity', 'citric-acid',\n",
       "       'residual-sugar', 'chlorides', 'free-sulfur-dioxide', 'density', 'pH',\n",
       "       'sulphates', 'quality'],\n",
       "      dtype='object')"
      ]
     },
     "execution_count": 15,
     "metadata": {},
     "output_type": "execute_result"
    }
   ],
   "source": [
    "df_fs.columns"
   ]
  },
  {
   "cell_type": "code",
   "execution_count": 16,
   "id": "b6e1f532-fafd-47a5-aba8-9278ef0bb36c",
   "metadata": {},
   "outputs": [
    {
     "data": {
      "text/plain": [
       "{'alcohol', 'total-sulfur-dioxide'}"
      ]
     },
     "execution_count": 16,
     "metadata": {},
     "output_type": "execute_result"
    }
   ],
   "source": [
    "set(df.columns)-set(df_fs.columns)"
   ]
  },
  {
   "cell_type": "code",
   "execution_count": 17,
   "id": "5bef5b14-aa67-4be7-aacb-7603e7dc1bc3",
   "metadata": {},
   "outputs": [
    {
     "data": {
      "text/plain": [
       "fixed-acidity         -0.077031\n",
       "volatile-acidity      -0.265953\n",
       "citric-acid            0.085706\n",
       "residual-sugar        -0.036825\n",
       "chlorides             -0.200886\n",
       "free-sulfur-dioxide    0.055463\n",
       "density               -0.305858\n",
       "pH                     0.019366\n",
       "sulphates              0.038729\n",
       "quality                1.000000\n",
       "Name: quality, dtype: float64"
      ]
     },
     "execution_count": 17,
     "metadata": {},
     "output_type": "execute_result"
    }
   ],
   "source": [
    "df_fs.corr()['quality']"
   ]
  },
  {
   "cell_type": "code",
   "execution_count": 18,
   "id": "1889b1cd-6da4-42ff-81a8-be0e6f1b4387",
   "metadata": {},
   "outputs": [
    {
     "data": {
      "text/plain": [
       "<AxesSubplot:xlabel='quality', ylabel='Count'>"
      ]
     },
     "execution_count": 18,
     "metadata": {},
     "output_type": "execute_result"
    },
    {
     "data": {
      "image/png": "[encoded data removed]",
      "text/plain": [
       "<Figure size 432x288 with 1 Axes>"
      ]
     },
     "metadata": {
      "needs_background": "light"
     },
     "output_type": "display_data"
    }
   ],
   "source": [
    "sns.histplot(df.quality)"
   ]
  },
  {
   "cell_type": "code",
   "execution_count": 19,
   "id": "2aafa947-6936-4ba0-83a5-af12baf1f5cd",
   "metadata": {},
   "outputs": [],
   "source": [
    "from sklearn.linear_model import LinearRegression"
   ]
  },
  {
   "cell_type": "code",
   "execution_count": 20,
   "id": "58620dd4-5582-4bdb-8d79-9898027325d9",
   "metadata": {},
   "outputs": [],
   "source": [
    "lm_data = df.dropna(how='any',axis=0)\n",
    "x = lm_data.drop(['quality','type'], axis=1)\n",
    "y = lm_data['quality'].astype('float64')"
   ]
  },
  {
   "cell_type": "code",
   "execution_count": 21,
   "id": "59079736-c196-468c-9553-7ee6ce86f9a2",
   "metadata": {},
   "outputs": [
    {
     "data": {
      "text/plain": [
       "fixed-acidity           float64\n",
       "volatile-acidity        float64\n",
       "citric-acid             float64\n",
       "residual-sugar          float64\n",
       "chlorides               float64\n",
       "free-sulfur-dioxide     float64\n",
       "total-sulfur-dioxide    float64\n",
       "density                 float64\n",
       "pH                      float64\n",
       "sulphates               float64\n",
       "alcohol                 float64\n",
       "dtype: object"
      ]
     },
     "execution_count": 21,
     "metadata": {},
     "output_type": "execute_result"
    }
   ],
   "source": [
    "x.dtypes"
   ]
  },
  {
   "cell_type": "code",
   "execution_count": 22,
   "id": "41fd6282-eeec-46cb-958c-349e1c137b7e",
   "metadata": {},
   "outputs": [
    {
     "data": {
      "text/plain": [
       "dtype('float64')"
      ]
     },
     "execution_count": 22,
     "metadata": {},
     "output_type": "execute_result"
    }
   ],
   "source": [
    "y.dtypes"
   ]
  },
  {
   "cell_type": "code",
   "execution_count": 23,
   "id": "db129d3f-e213-4d6a-8538-b76a4d77bc4f",
   "metadata": {},
   "outputs": [
    {
     "data": {
      "text/plain": [
       "fixed-acidity           0\n",
       "volatile-acidity        0\n",
       "citric-acid             0\n",
       "residual-sugar          0\n",
       "chlorides               0\n",
       "free-sulfur-dioxide     0\n",
       "total-sulfur-dioxide    0\n",
       "density                 0\n",
       "pH                      0\n",
       "sulphates               0\n",
       "alcohol                 0\n",
       "dtype: int64"
      ]
     },
     "execution_count": 23,
     "metadata": {},
     "output_type": "execute_result"
    }
   ],
   "source": [
    "x.isna().sum()"
   ]
  },
  {
   "cell_type": "code",
   "execution_count": 24,
   "id": "4f0b4af4-0a21-4cbd-95ae-a13964b6d7d3",
   "metadata": {},
   "outputs": [
    {
     "data": {
      "text/plain": [
       "LinearRegression()"
      ]
     },
     "execution_count": 24,
     "metadata": {},
     "output_type": "execute_result"
    }
   ],
   "source": [
    "lm = LinearRegression()\n",
    "lm.fit(x,y)"
   ]
  },
  {
   "cell_type": "code",
   "execution_count": 26,
   "id": "caddbbfa-013b-444b-a15e-6334a155120d",
   "metadata": {},
   "outputs": [
    {
     "name": "stdout",
     "output_type": "stream",
     "text": [
      "0.29316397364863245\n"
     ]
    }
   ],
   "source": [
    "from sklearn.metrics import accuracy_score, r2_score\n",
    "preds = lm.predict(x)\n",
    "preds.dtype\n",
    "print(r2_score(y, preds))\n"
   ]
  },
  {
   "cell_type": "code",
   "execution_count": 184,
   "id": "61e9d443-910f-4cc8-9aa9-8e8c8235ef8a",
   "metadata": {
    "collapsed": true,
    "jupyter": {
     "outputs_hidden": true
    },
    "tags": []
   },
   "outputs": [
    {
     "name": "stdout",
     "output_type": "stream",
     "text": [
      "Collecting h2o\n",
      "  Downloading h2o-3.36.0.2.tar.gz (176.0 MB)\n",
      "\u001b[K     |████████████████████████████████| 176.0 MB 10 kB/s /s eta 0:00:01\n",
      "\u001b[?25hRequirement already satisfied: requests in /opt/conda/lib/python3.8/site-packages (from h2o) (2.26.0)\n",
      "Requirement already satisfied: tabulate in /opt/conda/lib/python3.8/site-packages (from h2o) (0.8.9)\n",
      "Collecting future\n",
      "  Downloading future-0.18.2.tar.gz (829 kB)\n",
      "\u001b[K     |████████████████████████████████| 829 kB 99.4 MB/s eta 0:00:01\n",
      "\u001b[?25hRequirement already satisfied: urllib3<1.27,>=1.21.1 in /opt/conda/lib/python3.8/site-packages (from requests->h2o) (1.26.6)\n",
      "Requirement already satisfied: idna<4,>=2.5 in /opt/conda/lib/python3.8/site-packages (from requests->h2o) (3.2)\n",
      "Requirement already satisfied: certifi>=2017.4.17 in /opt/conda/lib/python3.8/site-packages (from requests->h2o) (2021.10.8)\n",
      "Requirement already satisfied: charset-normalizer~=2.0.0 in /opt/conda/lib/python3.8/site-packages (from requests->h2o) (2.0.4)\n",
      "Building wheels for collected packages: h2o, future\n",
      "  Building wheel for h2o (setup.py) ... \u001b[?25ldone\n",
      "\u001b[?25h  Created wheel for h2o: filename=h2o-3.36.0.2-py2.py3-none-any.whl size=176112128 sha256=7c76000f591826e8eae21083266288058ef6260b67c91c5eb539e037d33f10f0\n",
      "  Stored in directory: /home/ubuntu/.cache/pip/wheels/51/21/0c/746203762bf4493f01425b6574f85c2099881fa59228074d14\n",
      "  Building wheel for future (setup.py) ... \u001b[?25ldone\n",
      "\u001b[?25h  Created wheel for future: filename=future-0.18.2-py3-none-any.whl size=491070 sha256=986174e05a6ab8f584130057088d405b4dd822eb731624cce9a23d7812aca689\n",
      "  Stored in directory: /home/ubuntu/.cache/pip/wheels/8e/70/28/3d6ccd6e315f65f245da085482a2e1c7d14b90b30f239e2cf4\n",
      "Successfully built h2o future\n",
      "Installing collected packages: future, h2o\n",
      "Successfully installed future-0.18.2 h2o-3.36.0.2\n"
     ]
    }
   ],
   "source": [
    "!pip install h2o --user"
   ]
  },
  {
   "cell_type": "code",
   "execution_count": 27,
   "id": "335a4732-ea5c-401d-9813-2144aa8c94cc",
   "metadata": {},
   "outputs": [
    {
     "ename": "ModuleNotFoundError",
     "evalue": "No module named 'h2o'",
     "output_type": "error",
     "traceback": [
      "\u001b[0;31m---------------------------------------------------------------------------\u001b[0m",
      "\u001b[0;31mModuleNotFoundError\u001b[0m                       Traceback (most recent call last)",
      "\u001b[0;32m/tmp/ipykernel_315/3279963618.py\u001b[0m in \u001b[0;36m<module>\u001b[0;34m\u001b[0m\n\u001b[0;32m----> 1\u001b[0;31m \u001b[0;32mimport\u001b[0m \u001b[0mh2o\u001b[0m\u001b[0;34m\u001b[0m\u001b[0;34m\u001b[0m\u001b[0m\n\u001b[0m",
      "\u001b[0;31mModuleNotFoundError\u001b[0m: No module named 'h2o'"
     ]
    }
   ],
   "source": [
    "import h2o"
   ]
  },
  {
   "cell_type": "code",
   "execution_count": null,
   "id": "42eae49d-d5db-44d2-b2ca-dfada14cbb8c",
   "metadata": {},
   "outputs": [],
   "source": []
  }
 ],
 "metadata": {
  "kernelspec": {
   "display_name": "Python 3 (ipykernel)",
   "language": "python",
   "name": "python3"
  },
  "language_info": {
   "codemirror_mode": {
    "name": "ipython",
    "version": 3
   },
   "file_extension": ".py",
   "mimetype": "text/x-python",
   "name": "python",
   "nbconvert_exporter": "python",
   "pygments_lexer": "ipython3",
   "version": "3.8.12"
  }
 },
 "nbformat": 4,
 "nbformat_minor": 5
}
