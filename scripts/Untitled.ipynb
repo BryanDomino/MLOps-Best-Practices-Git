{
 "cells": [
  {
   "cell_type": "code",
   "execution_count": 1,
   "id": "36b8087a-1e61-44b5-a45a-8843bf873fb3",
   "metadata": {},
   "outputs": [],
   "source": [
    "%config IPCompleter.greedy=True"
   ]
  },
  {
   "cell_type": "code",
   "execution_count": null,
   "id": "83e9f840-3d4e-4918-8d3d-99f39118a1fb",
   "metadata": {},
   "outputs": [],
   "source": [
    "import pand"
   ]
  }
 ],
 "metadata": {
  "kernelspec": {
   "display_name": "Python 3 (ipykernel)",
   "language": "python",
   "name": "python3"
  },
  "language_info": {
   "codemirror_mode": {
    "name": "ipython",
    "version": 3
   },
   "file_extension": ".py",
   "mimetype": "text/x-python",
   "name": "python",
   "nbconvert_exporter": "python",
   "pygments_lexer": "ipython3",
   "version": "3.9.18"
  }
 },
 "nbformat": 4,
 "nbformat_minor": 5
}
