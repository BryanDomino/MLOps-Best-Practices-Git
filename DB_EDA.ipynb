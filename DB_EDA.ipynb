{
 "cells": [
  {
   "cell_type": "markdown",
   "id": "ebeacb67-051e-4ef3-a028-ef0b5ab7432a",
   "metadata": {},
   "source": [
    "SELECT * FROM bryantest.WINE_RED;"
   ]
  },
  {
   "cell_type": "code",
   "execution_count": null,
   "id": "e52c3793-a047-4ab8-bf39-74e2892e97fa",
   "metadata": {},
   "outputs": [],
   "source": []
  },
  {
   "cell_type": "code",
   "execution_count": null,
   "id": "dfc13eec-473a-4308-afc9-0dd8fb00edc6",
   "metadata": {},
   "outputs": [],
   "source": [
    "df.head()"
   ]
  },
  {
   "cell_type": "code",
   "execution_count": null,
   "id": "a0a86b12-fb8b-4c55-8aa8-582aba17f749",
   "metadata": {},
   "outputs": [],
   "source": [
    "import seaborn as sns\n",
    "import matplotlib.pyplot as plt"
   ]
  },
  {
   "cell_type": "code",
   "execution_count": null,
   "id": "9f6cf7b2-3b22-4ac4-bfd1-0c40d5696bea",
   "metadata": {},
   "outputs": [],
   "source": [
    "corr_values = df.corr(numeric_only=True).sort_values(by = 'QUALITY')['QUALITY'].drop('QUALITY',axis=0)\n",
    "important_feats=corr_values[abs(corr_values)>0.08]\n",
    "print(important_feats)\n",
    "sns.set_theme(style=\"darkgrid\")\n",
    "plt.figure(figsize=(16,5))\n",
    "plt.title('Feature Importance for Wine Quality')\n",
    "plt.ylabel('Pearson Correlation')\n",
    "sns.barplot(x=important_feats.keys(), y=important_feats.values, palette='seismic_r')"
   ]
  },
  {
   "cell_type": "code",
   "execution_count": null,
   "id": "de24cfbf-390e-408a-9ea1-f402af7126e0",
   "metadata": {},
   "outputs": [],
   "source": [
    "for i in list(important_feats.keys())+['QUALITY']:\n",
    "    plt.figure(figsize=(8,5))\n",
    "    plt.title('Histogram of {}'.format(i))\n",
    "    sns.histplot(df[i], kde=True)"
   ]
  },
  {
   "cell_type": "code",
   "execution_count": null,
   "id": "6d8dbbcd-2b8f-43df-bce5-38d9fcbadab9",
   "metadata": {},
   "outputs": [],
   "source": []
  }
 ],
 "metadata": {
  "kernelspec": {
   "display_name": "Python 3 (ipykernel)",
   "language": "python",
   "name": "python3"
  },
  "language_info": {
   "codemirror_mode": {
    "name": "ipython",
    "version": 3
   },
   "file_extension": ".py",
   "mimetype": "text/x-python",
   "name": "python",
   "nbconvert_exporter": "python",
   "pygments_lexer": "ipython3",
   "version": "3.9.18"
  }
 },
 "nbformat": 4,
 "nbformat_minor": 5
}
